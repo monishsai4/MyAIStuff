{
  "cells": [
    {
      "cell_type": "markdown",
      "metadata": {
        "id": "view-in-github",
        "colab_type": "text"
      },
      "source": [
        "<a href=\"https://colab.research.google.com/github/monishsai4/MyAIStuff/blob/main/Logregmodelnn.ipynb\" target=\"_parent\"><img src=\"https://colab.research.google.com/assets/colab-badge.svg\" alt=\"Open In Colab\"/></a>"
      ]
    },
    {
      "cell_type": "markdown",
      "metadata": {
        "id": "zTZCmOYjt0Zn"
      },
      "source": [
        "Kaggle installation which is required only once\n"
      ]
    },
    {
      "cell_type": "code",
      "execution_count": 1,
      "metadata": {
        "id": "A3nqUDfAqt8o"
      },
      "outputs": [],
      "source": [
        "#!pip install -q kaggle\n",
        "#from google.colab import files\n",
        "#files.upload()\n",
        "#!mkdir ~/.kaggle\n",
        "#! cp kaggle.json ~/.kaggle/\n",
        "#!chmod 600 ~/.kaggle/kaggle.json\n",
        "#! kaggle datasets list"
      ]
    },
    {
      "cell_type": "code",
      "execution_count": 2,
      "metadata": {
        "id": "uvzNqior_J0k",
        "colab": {
          "base_uri": "https://localhost:8080/"
        },
        "outputId": "04f74521-e181-4f0d-9ecd-f85e1a8ff5ee"
      },
      "outputs": [
        {
          "output_type": "stream",
          "name": "stdout",
          "text": [
            "Mounted at /content/drive\n"
          ]
        }
      ],
      "source": [
        "from google.colab import drive\n",
        "drive.mount('/content/drive')"
      ]
    },
    {
      "cell_type": "code",
      "execution_count": 3,
      "metadata": {
        "colab": {
          "base_uri": "https://localhost:8080/"
        },
        "id": "y0UeKxpcCz5o",
        "outputId": "cbd0416e-ae68-4d3a-da9f-a024f678ba82"
      },
      "outputs": [
        {
          "output_type": "stream",
          "name": "stdout",
          "text": [
            "/content/drive/MyDrive/Colab Notebooks\n"
          ]
        }
      ],
      "source": [
        "%cd /content/drive/MyDrive/Colab Notebooks"
      ]
    },
    {
      "cell_type": "code",
      "execution_count": 4,
      "metadata": {
        "id": "eA7hm4zwD4qn"
      },
      "outputs": [],
      "source": [
        "#from google.colab import files\n",
        "#files.upload()"
      ]
    },
    {
      "cell_type": "code",
      "execution_count": 21,
      "metadata": {
        "id": "kyYUB9iAFnX6"
      },
      "outputs": [],
      "source": [
        "import time\n",
        "import numpy as np\n",
        "import h5py\n",
        "import matplotlib.pyplot as plt\n",
        "import scipy\n",
        "import copy\n",
        "from sklearn.svm import SVC\n",
        "from sklearn.metrics import RocCurveDisplay\n",
        "from sklearn.metrics import classification_report\n",
        "from sklearn import datasets, linear_model\n",
        "from sklearn.linear_model import LogisticRegression"
      ]
    },
    {
      "cell_type": "code",
      "source": [
        "    train_dataset = h5py.File('Datasets/catvnoncat/train_catvnoncat.h5', \"r\")\n",
        "    train_x_orig = np.array(train_dataset[\"train_set_x\"][:]) # your train set features\n",
        "    train_set_y_orig = np.array(train_dataset[\"train_set_y\"][:]) # your train set labels\n",
        "\n",
        "    test_dataset = h5py.File('Datasets/catvnoncat/test_catvnoncat.h5', \"r\")\n",
        "    test_x_orig = np.array(test_dataset[\"test_set_x\"][:]) # your test set features\n",
        "    test_set_y_orig = np.array(test_dataset[\"test_set_y\"][:]) # your test set labels\n",
        "\n",
        "    classes = np.array(test_dataset[\"list_classes\"][:]) # the list of classes\n",
        "    \n",
        "    train_y = train_set_y_orig.reshape((1, train_set_y_orig.shape[0]))\n",
        "    test_y = test_set_y_orig.reshape((1, test_set_y_orig.shape[0]))"
      ],
      "metadata": {
        "id": "A9Ii6h2xD5Op"
      },
      "execution_count": 22,
      "outputs": []
    },
    {
      "cell_type": "code",
      "source": [
        "print(train_set_y_orig.shape)"
      ],
      "metadata": {
        "colab": {
          "base_uri": "https://localhost:8080/"
        },
        "id": "3Frgi7LmKCFj",
        "outputId": "0d230cd0-e899-4c6f-a773-f322b048c78f"
      },
      "execution_count": 23,
      "outputs": [
        {
          "output_type": "stream",
          "name": "stdout",
          "text": [
            "(209,)\n"
          ]
        }
      ]
    },
    {
      "cell_type": "code",
      "source": [
        "# Example of a picture\n",
        "index = 11\n",
        "plt.imshow(test_x_orig[index])\n",
        "print (\"y = \"+ str(train_y[0,index]) + \". It's a\" + classes[train_y[0,index]].decode(\"utf-8\") + \"picture.\")\n"
      ],
      "metadata": {
        "colab": {
          "base_uri": "https://localhost:8080/",
          "height": 449
        },
        "id": "hLGoTNmPEiDO",
        "outputId": "6076c780-a16e-488d-c92c-aa6aa595a4e0"
      },
      "execution_count": 24,
      "outputs": [
        {
          "output_type": "stream",
          "name": "stdout",
          "text": [
            "y = 1. It's acatpicture.\n"
          ]
        },
        {
          "output_type": "display_data",
          "data": {
            "text/plain": [
              "<Figure size 640x480 with 1 Axes>"
            ],
            "image/png": "[encoded data removed]"
          },
          "metadata": {}
        }
      ]
    },
    {
      "cell_type": "markdown",
      "source": [
        "### **Exploring the datasets and printing their shape.**"
      ],
      "metadata": {
        "id": "WitwBdaLK9dj"
      }
    },
    {
      "cell_type": "code",
      "source": [
        "m_train = train_x_orig.shape[0]\n",
        "m_test = test_x_orig.shape[0]\n",
        "num_px = train_x_orig.shape[1]\n",
        "\n",
        "print (\"Number of training examples: \"+ str(m_train))\n",
        "print (\"Number of testing examples: \"+ str(m_test))\n",
        "print (\"Each image is of size: (\" + str(num_px) + \", \"+ str(num_px) + \", 3)\")\n",
        "print (\"train_x_orig shape: \"+ str(train_x_orig.shape))\n",
        "print (\"train_y shape: \"+ str(train_y.shape))\n",
        "print (\"test_x_orig shape: \"+ str(test_x_orig.shape))\n",
        "print (\"test_y shape: \"+ str(test_y.shape))"
      ],
      "metadata": {
        "colab": {
          "base_uri": "https://localhost:8080/"
        },
        "id": "IcApM9BAEsJy",
        "outputId": "e8519597-c058-49ca-fd5d-054838b07216"
      },
      "execution_count": 25,
      "outputs": [
        {
          "output_type": "stream",
          "name": "stdout",
          "text": [
            "Number of training examples: 209\n",
            "Number of testing examples: 50\n",
            "Each image is of size: (64, 64, 3)\n",
            "train_x_orig shape: (209, 64, 64, 3)\n",
            "train_y shape: (1, 209)\n",
            "test_x_orig shape: (50, 64, 64, 3)\n",
            "test_y shape: (1, 50)\n"
          ]
        }
      ]
    },
    {
      "cell_type": "markdown",
      "source": [
        "### **Reshape the training and test example and flatten it.**"
      ],
      "metadata": {
        "id": "KLJR4WHULQIW"
      }
    },
    {
      "cell_type": "code",
      "source": [
        "train_x_flatten = train_x_orig.reshape(train_x_orig.shape[0], -1).T \n",
        "test_x_flatten = test_x_orig.reshape(test_x_orig.shape[0], -1).T\n",
        "#print(train_x_flatten)\n",
        "#print(train_x_flatten.shape)\n",
        "train_x = train_x_flatten/255\n",
        "test_x = test_x_flatten/255\n",
        "#print(train_x[1])\n",
        "#predictions = (train_x > 0.5)\n",
        "#print(\"Predictions: \" + str(predictions))\n",
        "#print ('Accuracy: %d' % float((np.dot(train_y, predictions.T) + np.dot(1 - train_y, 1 - predictions.T)) / float(train_y.size) * 100) + '%')\n",
        "#print(train_x.shape)\n",
        "print (\"train_x's shape: \"+ str(train_x.shape))\n",
        "print (\"test_x's shape: \"+ str(test_x.shape))"
      ],
      "metadata": {
        "colab": {
          "base_uri": "https://localhost:8080/"
        },
        "id": "tNpYPiW8LPgC",
        "outputId": "b26245ee-b4e3-4b53-be3f-b006d40033eb"
      },
      "execution_count": 26,
      "outputs": [
        {
          "output_type": "stream",
          "name": "stdout",
          "text": [
            "train_x's shape: (12288, 209)\n",
            "test_x's shape: (12288, 50)\n"
          ]
        }
      ]
    },
    {
      "cell_type": "code",
      "source": [
        "#print(train_x[1].shape)\n",
        "#print(train_x_orig[1].shape)\n",
        "#print(train_set_y_orig.shape)\n",
        "#train_x_orig1 = train_x[1].reshape(-1,1)\n",
        "#print(train_x_orig1.shape)"
      ],
      "metadata": {
        "id": "yaE-mthsSQ0A"
      },
      "execution_count": 11,
      "outputs": []
    },
    {
      "cell_type": "code",
      "source": [
        "plt.scatter(train_x[1],train_set_y_orig)\n"
      ],
      "metadata": {
        "colab": {
          "base_uri": "https://localhost:8080/",
          "height": 447
        },
        "id": "RGHWHWxnScjH",
        "outputId": "9b7b2f82-1b88-4366-b7d1-37bf5542342b"
      },
      "execution_count": 12,
      "outputs": [
        {
          "output_type": "execute_result",
          "data": {
            "text/plain": [
              "<matplotlib.collections.PathCollection at 0x7f159becb6a0>"
            ]
          },
          "metadata": {},
          "execution_count": 12
        },
        {
          "output_type": "display_data",
          "data": {
            "text/plain": [
              "<Figure size 640x480 with 1 Axes>"
            ],
            "image/png": "[encoded data removed]"
          },
          "metadata": {}
        }
      ]
    },
    {
      "cell_type": "markdown",
      "source": [
        "### **Fitting the model using scikit logistic regression** "
      ],
      "metadata": {
        "id": "ksAZbVDUlUh8"
      }
    },
    {
      "cell_type": "code",
      "source": [
        "lr = linear_model.LogisticRegression(C=1.0,solver='lbfgs', multi_class=\"ovr\")\n",
        "train_x_orig1 = train_x[1].reshape(-1,1)\n",
        "lr.fit(train_x_orig1, train_set_y_orig)"
      ],
      "metadata": {
        "colab": {
          "base_uri": "https://localhost:8080/",
          "height": 75
        },
        "id": "eag1eQH1Y7KA",
        "outputId": "34333576-f494-4e5a-9b39-6b7d2806cfc0"
      },
      "execution_count": 13,
      "outputs": [
        {
          "output_type": "execute_result",
          "data": {
            "text/plain": [
              "LogisticRegression(multi_class='ovr')"
            ],
            "text/html": [
              "<style>#sk-container-id-1 {color: black;background-color: white;}#sk-container-id-1 pre{padding: 0;}#sk-container-id-1 div.sk-toggleable {background-color: white;}#sk-container-id-1 label.sk-toggleable__label {cursor: pointer;display: block;width: 100%;margin-bottom: 0;padding: 0.3em;box-sizing: border-box;text-align: center;}#sk-container-id-1 label.sk-toggleable__label-arrow:before {content: \"▸\";float: left;margin-right: 0.25em;color: #696969;}#sk-container-id-1 label.sk-toggleable__label-arrow:hover:before {color: black;}#sk-container-id-1 div.sk-estimator:hover label.sk-toggleable__label-arrow:before {color: black;}#sk-container-id-1 div.sk-toggleable__content {max-height: 0;max-width: 0;overflow: hidden;text-align: left;background-color: #f0f8ff;}#sk-container-id-1 div.sk-toggleable__content pre {margin: 0.2em;color: black;border-radius: 0.25em;background-color: #f0f8ff;}#sk-container-id-1 input.sk-toggleable__control:checked~div.sk-toggleable__content {max-height: 200px;max-width: 100%;overflow: auto;}#sk-container-id-1 input.sk-toggleable__control:checked~label.sk-toggleable__label-arrow:before {content: \"▾\";}#sk-container-id-1 div.sk-estimator input.sk-toggleable__control:checked~label.sk-toggleable__label {background-color: #d4ebff;}#sk-container-id-1 div.sk-label input.sk-toggleable__control:checked~label.sk-toggleable__label {background-color: #d4ebff;}#sk-container-id-1 input.sk-hidden--visually {border: 0;clip: rect(1px 1px 1px 1px);clip: rect(1px, 1px, 1px, 1px);height: 1px;margin: -1px;overflow: hidden;padding: 0;position: absolute;width: 1px;}#sk-container-id-1 div.sk-estimator {font-family: monospace;background-color: #f0f8ff;border: 1px dotted black;border-radius: 0.25em;box-sizing: border-box;margin-bottom: 0.5em;}#sk-container-id-1 div.sk-estimator:hover {background-color: #d4ebff;}#sk-container-id-1 div.sk-parallel-item::after {content: \"\";width: 100%;border-bottom: 1px solid gray;flex-grow: 1;}#sk-container-id-1 div.sk-label:hover label.sk-toggleable__label {background-color: #d4ebff;}#sk-container-id-1 div.sk-serial::before {content: \"\";position: absolute;border-left: 1px solid gray;box-sizing: border-box;top: 0;bottom: 0;left: 50%;z-index: 0;}#sk-container-id-1 div.sk-serial {display: flex;flex-direction: column;align-items: center;background-color: white;padding-right: 0.2em;padding-left: 0.2em;position: relative;}#sk-container-id-1 div.sk-item {position: relative;z-index: 1;}#sk-container-id-1 div.sk-parallel {display: flex;align-items: stretch;justify-content: center;background-color: white;position: relative;}#sk-container-id-1 div.sk-item::before, #sk-container-id-1 div.sk-parallel-item::before {content: \"\";position: absolute;border-left: 1px solid gray;box-sizing: border-box;top: 0;bottom: 0;left: 50%;z-index: -1;}#sk-container-id-1 div.sk-parallel-item {display: flex;flex-direction: column;z-index: 1;position: relative;background-color: white;}#sk-container-id-1 div.sk-parallel-item:first-child::after {align-self: flex-end;width: 50%;}#sk-container-id-1 div.sk-parallel-item:last-child::after {align-self: flex-start;width: 50%;}#sk-container-id-1 div.sk-parallel-item:only-child::after {width: 0;}#sk-container-id-1 div.sk-dashed-wrapped {border: 1px dashed gray;margin: 0 0.4em 0.5em 0.4em;box-sizing: border-box;padding-bottom: 0.4em;background-color: white;}#sk-container-id-1 div.sk-label label {font-family: monospace;font-weight: bold;display: inline-block;line-height: 1.2em;}#sk-container-id-1 div.sk-label-container {text-align: center;}#sk-container-id-1 div.sk-container {/* jupyter's `normalize.less` sets `[hidden] { display: none; }` but bootstrap.min.css set `[hidden] { display: none !important; }` so we also need the `!important` here to be able to override the default hidden behavior on the sphinx rendered scikit-learn.org. See: https://github.com/scikit-learn/scikit-learn/issues/21755 */display: inline-block !important;position: relative;}#sk-container-id-1 div.sk-text-repr-fallback {display: none;}</style><div id=\"sk-container-id-1\" class=\"sk-top-container\"><div class=\"sk-text-repr-fallback\"><pre>LogisticRegression(multi_class=&#x27;ovr&#x27;)</pre><b>In a Jupyter environment, please rerun this cell to show the HTML representation or trust the notebook. <br />On GitHub, the HTML representation is unable to render, please try loading this page with nbviewer.org.</b></div><div class=\"sk-container\" hidden><div class=\"sk-item\"><div class=\"sk-estimator sk-toggleable\"><input class=\"sk-toggleable__control sk-hidden--visually\" id=\"sk-estimator-id-1\" type=\"checkbox\" checked><label for=\"sk-estimator-id-1\" class=\"sk-toggleable__label sk-toggleable__label-arrow\">LogisticRegression</label><div class=\"sk-toggleable__content\"><pre>LogisticRegression(multi_class=&#x27;ovr&#x27;)</pre></div></div></div></div></div>"
            ]
          },
          "metadata": {},
          "execution_count": 13
        }
      ]
    },
    {
      "cell_type": "code",
      "source": [
        "print(lr.score(train_x_orig1, train_set_y_orig))"
      ],
      "metadata": {
        "id": "ZJWqfQ4RRg8y",
        "colab": {
          "base_uri": "https://localhost:8080/"
        },
        "outputId": "2849b236-c411-48e1-8281-4fc6505252f5"
      },
      "execution_count": 14,
      "outputs": [
        {
          "output_type": "stream",
          "name": "stdout",
          "text": [
            "0.6555023923444976\n"
          ]
        }
      ]
    },
    {
      "cell_type": "code",
      "source": [
        "y_pred = lr.predict(train_x_orig1)\n",
        "print(classification_report(train_set_y_orig,y_pred))"
      ],
      "metadata": {
        "colab": {
          "base_uri": "https://localhost:8080/"
        },
        "id": "jHOpsYeHk-Pg",
        "outputId": "b414b516-e9a6-4e8b-e2d6-e281c22dc251"
      },
      "execution_count": 15,
      "outputs": [
        {
          "output_type": "stream",
          "name": "stdout",
          "text": [
            "              precision    recall  f1-score   support\n",
            "\n",
            "           0       0.66      1.00      0.79       137\n",
            "           1       0.00      0.00      0.00        72\n",
            "\n",
            "    accuracy                           0.66       209\n",
            "   macro avg       0.33      0.50      0.40       209\n",
            "weighted avg       0.43      0.66      0.52       209\n",
            "\n"
          ]
        },
        {
          "output_type": "stream",
          "name": "stderr",
          "text": [
            "/usr/local/lib/python3.10/dist-packages/sklearn/metrics/_classification.py:1344: UndefinedMetricWarning: Precision and F-score are ill-defined and being set to 0.0 in labels with no predicted samples. Use `zero_division` parameter to control this behavior.\n",
            "  _warn_prf(average, modifier, msg_start, len(result))\n",
            "/usr/local/lib/python3.10/dist-packages/sklearn/metrics/_classification.py:1344: UndefinedMetricWarning: Precision and F-score are ill-defined and being set to 0.0 in labels with no predicted samples. Use `zero_division` parameter to control this behavior.\n",
            "  _warn_prf(average, modifier, msg_start, len(result))\n",
            "/usr/local/lib/python3.10/dist-packages/sklearn/metrics/_classification.py:1344: UndefinedMetricWarning: Precision and F-score are ill-defined and being set to 0.0 in labels with no predicted samples. Use `zero_division` parameter to control this behavior.\n",
            "  _warn_prf(average, modifier, msg_start, len(result))\n"
          ]
        }
      ]
    },
    {
      "cell_type": "markdown",
      "source": [
        "### **The above model which we built through scikit learn gives us 65% precision now lets buid our own neural network with multiple layers for logistic regression** "
      ],
      "metadata": {
        "id": "e6HqOWp88fVa"
      }
    },
    {
      "cell_type": "code",
      "source": [
        "#cheking th eshape for Xtrain and yTrain\n",
        "print(train_x.shape)\n",
        "print(train_y.shape)\n",
        "m = train_x.shape[1]\n",
        "print(m)"
      ],
      "metadata": {
        "colab": {
          "base_uri": "https://localhost:8080/"
        },
        "id": "ehj2a8HDYNiX",
        "outputId": "21f5b4d3-8677-41d0-acfb-7ff9e2e66447"
      },
      "execution_count": 27,
      "outputs": [
        {
          "output_type": "stream",
          "name": "stdout",
          "text": [
            "(12288, 209)\n",
            "(1, 209)\n",
            "209\n"
          ]
        }
      ]
    },
    {
      "cell_type": "code",
      "source": [
        "n_x = train_x.shape[0]\n",
        "n_h = 4\n",
        "n_y = train_y.shape[0]\n",
        "num_iterations = 7500\n",
        "learning_rate = 0.01\n",
        "print_cost=False\n",
        "\n",
        "for i in range(0, num_iterations):\n",
        "    parameters = {}\n",
        "    W1 = np.random.randn(n_h,n_x)*0.01\n",
        "    b1 = np.zeros((n_h,1))\n",
        "    W2 = np.random.randn(n_y,n_h)*0.01\n",
        "    b2 = np.zeros((n_y,1))\n",
        "    \n",
        "    #Forward propagation\n",
        "\n",
        "    Z1 = np.dot(W1,train_x) + b1\n",
        "    A1 = np.tanh(Z1)\n",
        "    Z2 = np.dot(W2,A1) + b2\n",
        "    A2 = 1/(1+(np.exp(-Z2)))\n",
        "    logprobs = np.multiply(np.log(A2),train_y) + np.multiply(np.log(1 - A2),1 - train_y)\n",
        "    cost = - np.sum(logprobs)/m\n",
        "    cost = float(np.squeeze(cost))\n",
        "\n",
        "\n",
        "    #backward propagation\n",
        "    dZ2 = A2 - train_y\n",
        "    dW2 = np.dot(dZ2,A1.T)/m\n",
        "    db2 = np.sum(dZ2,axis = 1,keepdims=True)/m\n",
        "    dZ1 = np.dot(W2.T,dZ2) * (1 - np.power(A1, 2))\n",
        "    dW1 = np.dot(dZ1,train_x.T)/m\n",
        "    db1 = np.sum(dZ1,axis = 1,keepdims = True)/m\n",
        "\n",
        "\n",
        "    #updating parameters\n",
        "    \n",
        "    #W1 = copy.deepcopy(parameters[\"W1\"])\n",
        "    #b1 = parameters[\"b1\"]\n",
        "    #W2 = copy.deepcopy(parameters[\"W2\"])\n",
        "    #b2 = parameters[\"b2\"]\n",
        "\n",
        "    W1 = W1 - learning_rate * dW1\n",
        "    b1 = b1 - learning_rate *db1\n",
        "    W2 = W2 - learning_rate * dW2\n",
        "    b2 = b2 - learning_rate *db2\n",
        "    if print_cost and i % 1000 == 0:\n",
        "            print (\"Cost after iteration %i: %f\" %(i, cost))"
      ],
      "metadata": {
        "id": "Gbi8-p2n9EMC"
      },
      "execution_count": 33,
      "outputs": []
    },
    {
      "cell_type": "code",
      "source": [
        "#prediction for the model\n",
        "Z1 = np.dot(W1,train_x) + b1\n",
        "A1 = np.tanh(Z1)\n",
        "Z2 = np.dot(W2,A1) + b2\n",
        "A2 = 1/(1+(np.exp(-Z2)))\n",
        "M2 = A2 - train_y\n",
        "print(M2)\n",
        "print(A2)\n",
        "predictions = (A2 > 0.5)\n",
        "print(\"Predictions: \" + str(predictions))"
      ],
      "metadata": {
        "colab": {
          "base_uri": "https://localhost:8080/"
        },
        "id": "eR1E-u34V4n_",
        "outputId": "0541d8db-bf8f-4438-c291-da7dd80d74e4"
      },
      "execution_count": 35,
      "outputs": [
        {
          "output_type": "stream",
          "name": "stdout",
          "text": [
            "[[ 0.4989761   0.49894772 -0.50346044  0.49439955  0.49378683  0.49721629\n",
            "   0.49541643 -0.50476014  0.50011745  0.50148545  0.49446988 -0.50248693\n",
            "   0.49779542 -0.50351363 -0.50424596  0.4950802   0.49495999  0.49517545\n",
            "   0.49617148 -0.50378019  0.49826833  0.49825486  0.49586317  0.49698545\n",
            "  -0.50412224 -0.49963828  0.49629901 -0.50031798  0.49583029 -0.5027018\n",
            "   0.49569624  0.49513314  0.49679378  0.49532383  0.49457338  0.49584589\n",
            "   0.49679858  0.49593494 -0.50180778  0.49819923  0.49594302 -0.50266161\n",
            "  -0.50213605  0.49897765  0.49713858  0.49752063  0.49425707 -0.50017446\n",
            "   0.49615154  0.49618815 -0.50366499  0.49870081  0.49583476  0.49518787\n",
            "  -0.5040001   0.49481683 -0.49988562 -0.50349721  0.49703382 -0.50161001\n",
            "  -0.4998614  -0.50515836  0.49609701  0.49589081  0.50020804  0.49571715\n",
            "   0.50062931  0.49466129 -0.5014272   0.4934384   0.49654025 -0.50066266\n",
            "   0.49593743  0.4976974   0.49641188  0.49676315  0.49568691  0.49415485\n",
            "   0.49435981  0.49721849  0.49275707  0.49661716  0.49708185 -0.50350006\n",
            "  -0.50470561  0.49348095  0.49478028  0.497451   -0.5022098   0.49673006\n",
            "   0.49728301  0.49903307 -0.50572911 -0.50420864 -0.5045218   0.49663332\n",
            "   0.4960506  -0.50235443  0.49564888  0.49709744  0.49642506  0.49680572\n",
            "  -0.50383897  0.49407752 -0.50194622  0.49577368 -0.50298843 -0.50176258\n",
            "  -0.50413495 -0.50236033 -0.50218947 -0.50207848  0.49643342  0.49614505\n",
            "   0.49579274  0.49595895  0.49966839 -0.50223316  0.49721273  0.49703237\n",
            "   0.49433934 -0.50435042  0.49761581  0.49724262 -0.50067037  0.49672437\n",
            "  -0.50284378  0.49785392 -0.50340537 -0.50097029  0.49677745  0.49692593\n",
            "   0.49819243 -0.50299994 -0.50391359 -0.50523817 -0.50281594 -0.5034739\n",
            "   0.49743779  0.49814165  0.49729136  0.49648942 -0.50338182  0.49825593\n",
            "  -0.50282567 -0.50429795 -0.50367291  0.49645077 -0.50106857 -0.50462908\n",
            "   0.49461406  0.49819997  0.49675936 -0.50518639  0.49437544  0.49595163\n",
            "  -0.50585054  0.49403408  0.49551567  0.49942368  0.49416662  0.49643848\n",
            "  -0.50330463  0.49930326 -0.50509913  0.4979039  -0.50494506  0.49753159\n",
            "   0.49847768 -0.50403859 -0.50427624 -0.50429672  0.49713478  0.49722866\n",
            "  -0.50029847 -0.50387193  0.49974849 -0.5029397   0.49910291 -0.50419176\n",
            "   0.49550676  0.49471685  0.49553941  0.49578529  0.49634713 -0.50309244\n",
            "   0.49466819  0.49495313 -0.50039519  0.49611812  0.49664895  0.49429081\n",
            "  -0.50271141  0.49944932  0.49551667  0.49993916  0.49730344 -0.4996999\n",
            "   0.49708635  0.49732218 -0.50620785  0.4987939   0.49947242  0.49626537\n",
            "   0.49846418  0.49727014  0.49468103  0.49719874  0.49697102]]\n",
            "[[0.4989761  0.49894772 0.49653956 0.49439955 0.49378683 0.49721629\n",
            "  0.49541643 0.49523986 0.50011745 0.50148545 0.49446988 0.49751307\n",
            "  0.49779542 0.49648637 0.49575404 0.4950802  0.49495999 0.49517545\n",
            "  0.49617148 0.49621981 0.49826833 0.49825486 0.49586317 0.49698545\n",
            "  0.49587776 0.50036172 0.49629901 0.49968202 0.49583029 0.4972982\n",
            "  0.49569624 0.49513314 0.49679378 0.49532383 0.49457338 0.49584589\n",
            "  0.49679858 0.49593494 0.49819222 0.49819923 0.49594302 0.49733839\n",
            "  0.49786395 0.49897765 0.49713858 0.49752063 0.49425707 0.49982554\n",
            "  0.49615154 0.49618815 0.49633501 0.49870081 0.49583476 0.49518787\n",
            "  0.4959999  0.49481683 0.50011438 0.49650279 0.49703382 0.49838999\n",
            "  0.5001386  0.49484164 0.49609701 0.49589081 0.50020804 0.49571715\n",
            "  0.50062931 0.49466129 0.4985728  0.4934384  0.49654025 0.49933734\n",
            "  0.49593743 0.4976974  0.49641188 0.49676315 0.49568691 0.49415485\n",
            "  0.49435981 0.49721849 0.49275707 0.49661716 0.49708185 0.49649994\n",
            "  0.49529439 0.49348095 0.49478028 0.497451   0.4977902  0.49673006\n",
            "  0.49728301 0.49903307 0.49427089 0.49579136 0.4954782  0.49663332\n",
            "  0.4960506  0.49764557 0.49564888 0.49709744 0.49642506 0.49680572\n",
            "  0.49616103 0.49407752 0.49805378 0.49577368 0.49701157 0.49823742\n",
            "  0.49586505 0.49763967 0.49781053 0.49792152 0.49643342 0.49614505\n",
            "  0.49579274 0.49595895 0.49966839 0.49776684 0.49721273 0.49703237\n",
            "  0.49433934 0.49564958 0.49761581 0.49724262 0.49932963 0.49672437\n",
            "  0.49715622 0.49785392 0.49659463 0.49902971 0.49677745 0.49692593\n",
            "  0.49819243 0.49700006 0.49608641 0.49476183 0.49718406 0.4965261\n",
            "  0.49743779 0.49814165 0.49729136 0.49648942 0.49661818 0.49825593\n",
            "  0.49717433 0.49570205 0.49632709 0.49645077 0.49893143 0.49537092\n",
            "  0.49461406 0.49819997 0.49675936 0.49481361 0.49437544 0.49595163\n",
            "  0.49414946 0.49403408 0.49551567 0.49942368 0.49416662 0.49643848\n",
            "  0.49669537 0.49930326 0.49490087 0.4979039  0.49505494 0.49753159\n",
            "  0.49847768 0.49596141 0.49572376 0.49570328 0.49713478 0.49722866\n",
            "  0.49970153 0.49612807 0.49974849 0.4970603  0.49910291 0.49580824\n",
            "  0.49550676 0.49471685 0.49553941 0.49578529 0.49634713 0.49690756\n",
            "  0.49466819 0.49495313 0.49960481 0.49611812 0.49664895 0.49429081\n",
            "  0.49728859 0.49944932 0.49551667 0.49993916 0.49730344 0.5003001\n",
            "  0.49708635 0.49732218 0.49379215 0.4987939  0.49947242 0.49626537\n",
            "  0.49846418 0.49727014 0.49468103 0.49719874 0.49697102]]\n",
            "Predictions: [[False False False False False False False False  True  True False False\n",
            "  False False False False False False False False False False False False\n",
            "  False  True False False False False False False False False False False\n",
            "  False False False False False False False False False False False False\n",
            "  False False False False False False False False  True False False False\n",
            "   True False False False  True False  True False False False False False\n",
            "  False False False False False False False False False False False False\n",
            "  False False False False False False False False False False False False\n",
            "  False False False False False False False False False False False False\n",
            "  False False False False False False False False False False False False\n",
            "  False False False False False False False False False False False False\n",
            "  False False False False False False False False False False False False\n",
            "  False False False False False False False False False False False False\n",
            "  False False False False False False False False False False False False\n",
            "  False False False False False False False False False False False False\n",
            "  False False False False False False False False False False False False\n",
            "  False False False False False  True False False False False False False\n",
            "  False False False False False]]\n"
          ]
        }
      ]
    },
    {
      "cell_type": "code",
      "source": [
        "#accuracy of the model\n",
        "print ('Accuracy: %d' % float((np.dot(train_y, predictions.T) + np.dot(1 - train_y, 1 - predictions.T)) / float(train_y.size) * 100) + '%')"
      ],
      "metadata": {
        "colab": {
          "base_uri": "https://localhost:8080/"
        },
        "id": "eWBU_83OXhIQ",
        "outputId": "84e300f8-1a5f-4a22-b4b0-9ce959ef5321"
      },
      "execution_count": 32,
      "outputs": [
        {
          "output_type": "stream",
          "name": "stdout",
          "text": [
            "Accuracy: 65%\n"
          ]
        }
      ]
    },
    {
      "cell_type": "code",
      "source": [],
      "metadata": {
        "id": "HGNiM_gnacj6"
      },
      "execution_count": null,
      "outputs": []
    }
  ],
  "metadata": {
    "colab": {
      "provenance": [],
      "authorship_tag": "ABX9TyODx41tHGwav+q2Tr7IRxOe",
      "include_colab_link": true
    },
    "kernelspec": {
      "display_name": "Python 3",
      "name": "python3"
    },
    "language_info": {
      "name": "python"
    }
  },
  "nbformat": 4,
  "nbformat_minor": 0
}
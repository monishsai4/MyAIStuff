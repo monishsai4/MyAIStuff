{
  "nbformat": 4,
  "nbformat_minor": 0,
  "metadata": {
    "colab": {
      "provenance": [],
      "authorship_tag": "ABX9TyNKpciEhACf7x9JOb54hHp/",
      "include_colab_link": true
    },
    "kernelspec": {
      "name": "python3",
      "display_name": "Python 3"
    },
    "language_info": {
      "name": "python"
    }
  },
  "cells": [
    {
      "cell_type": "markdown",
      "metadata": {
        "id": "view-in-github",
        "colab_type": "text"
      },
      "source": [
        "<a href=\"https://colab.research.google.com/github/monishsai4/MyAIStuff/blob/main/Basic_F_B_logprop.ipynb\" target=\"_parent\"><img src=\"https://colab.research.google.com/assets/colab-badge.svg\" alt=\"Open In Colab\"/></a>"
      ]
    },
    {
      "cell_type": "code",
      "execution_count": 1,
      "metadata": {
        "colab": {
          "base_uri": "https://localhost:8080/"
        },
        "id": "A8Woa6HNxhJy",
        "outputId": "7ce15e06-3d20-4aa3-c6d6-80d78f0ba149"
      },
      "outputs": [
        {
          "output_type": "stream",
          "name": "stdout",
          "text": [
            "Mounted at /content/drive\n"
          ]
        }
      ],
      "source": [
        "from google.colab import drive\n",
        "drive.mount('/content/drive')"
      ]
    },
    {
      "cell_type": "code",
      "source": [
        "%cd /content/drive/MyDrive/Colab Notebooks"
      ],
      "metadata": {
        "colab": {
          "base_uri": "https://localhost:8080/"
        },
        "id": "_z0jlu4pyDqn",
        "outputId": "b69ca83e-3877-4761-d4c5-4818812e9926"
      },
      "execution_count": 2,
      "outputs": [
        {
          "output_type": "stream",
          "name": "stdout",
          "text": [
            "/content/drive/MyDrive/Colab Notebooks\n"
          ]
        }
      ]
    },
    {
      "cell_type": "markdown",
      "source": [
        "### **Including the required libraries**"
      ],
      "metadata": {
        "id": "z8FbKVi1QKQj"
      }
    },
    {
      "cell_type": "code",
      "source": [
        "import time\n",
        "import numpy as np\n",
        "import h5py\n",
        "import matplotlib.pyplot as plt\n",
        "import scipy\n",
        "import copy\n",
        "from sklearn.svm import SVC\n",
        "from sklearn.metrics import RocCurveDisplay\n",
        "from sklearn.metrics import classification_report\n",
        "from sklearn import datasets, linear_model\n",
        "from sklearn.linear_model import LogisticRegression"
      ],
      "metadata": {
        "id": "3KWircPsyRIl"
      },
      "execution_count": 3,
      "outputs": []
    },
    {
      "cell_type": "markdown",
      "source": [
        "### **Dataset manipulation according to our requirements**"
      ],
      "metadata": {
        "id": "rxliBPV_QUsm"
      }
    },
    {
      "cell_type": "code",
      "source": [
        "train_dataset = h5py.File('Datasets/catvnoncat/train_catvnoncat.h5', \"r\")\n",
        "train_x_orig = np.array(train_dataset[\"train_set_x\"][:]) # your train set features\n",
        "train_set_y_orig = np.array(train_dataset[\"train_set_y\"][:]) # your train set labels\n",
        "\n",
        "test_dataset = h5py.File('Datasets/catvnoncat/test_catvnoncat.h5', \"r\")\n",
        "test_x_orig = np.array(test_dataset[\"test_set_x\"][:]) # your test set features\n",
        "test_set_y_orig = np.array(test_dataset[\"test_set_y\"][:]) # your test set labels\n",
        "\n",
        "classes = np.array(test_dataset[\"list_classes\"][:]) # the list of classes\n",
        "\n",
        "train_y = train_set_y_orig.reshape((1, train_set_y_orig.shape[0]))\n",
        "test_y = test_set_y_orig.reshape((1, test_set_y_orig.shape[0]))"
      ],
      "metadata": {
        "id": "kd3luyEGySsZ"
      },
      "execution_count": 4,
      "outputs": []
    },
    {
      "cell_type": "code",
      "source": [
        "# Example of a 4icture\n",
        "index = 1\n",
        "plt.imshow(test_x_orig[index])\n",
        "print (\"y = \"+ str(train_y[0,index]) + \". It's a\" + classes[train_y[0,index]].decode(\"utf-8\") + \"picture.\")\n"
      ],
      "metadata": {
        "colab": {
          "base_uri": "https://localhost:8080/",
          "height": 449
        },
        "id": "eEg1scKYyaWq",
        "outputId": "47a0a8da-1535-49e4-c2ca-fcf31d335bf9"
      },
      "execution_count": 7,
      "outputs": [
        {
          "output_type": "stream",
          "name": "stdout",
          "text": [
            "y = 0. It's anon-catpicture.\n"
          ]
        },
        {
          "output_type": "display_data",
          "data": {
            "text/plain": [
              "<Figure size 640x480 with 1 Axes>"
            ],
            "image/png": "[encoded data removed]"
          },
          "metadata": {}
        }
      ]
    },
    {
      "cell_type": "code",
      "source": [
        "#m_train = train_x_orig.shape[0]\n",
        "m_test = test_x_orig.shape[0]\n",
        "num_px = train_x_orig.shape[1]\n",
        "\n",
        "print (\"Number of training examples: \"+ str(m_train))\n",
        "print (\"Number of testing examples: \"+ str(m_test))\n",
        "print (\"Each image is of size: (\" + str(num_px) + \", \"+ str(num_px) + \", 3)\")\n",
        "print (\"train_x_orig shape: \"+ str(train_x_orig.shape))\n",
        "print (\"train_y shape: \"+ str(train_y.shape))\n",
        "print (\"test_x_orig shape: \"+ str(test_x_orig.shape))\n",
        "print (\"test_y shape: \"+ str(test_y.shape))"
      ],
      "metadata": {
        "colab": {
          "base_uri": "https://localhost:8080/"
        },
        "id": "EYmjVw-fygmf",
        "outputId": "6c9f005b-09ed-4056-e8ef-e8b376d258eb"
      },
      "execution_count": 8,
      "outputs": [
        {
          "output_type": "stream",
          "name": "stdout",
          "text": [
            "Number of training examples: 209\n",
            "Number of testing examples: 50\n",
            "Each image is of size: (64, 64, 3)\n",
            "train_x_orig shape: (209, 64, 64, 3)\n",
            "train_y shape: (1, 209)\n",
            "test_x_orig shape: (50, 64, 64, 3)\n",
            "test_y shape: (1, 50)\n"
          ]
        }
      ]
    },
    {
      "cell_type": "code",
      "source": [
        "train_x_flatten = train_x_orig.reshape(train_x_orig.shape[0], -1).T \n",
        "test_x_flatten = test_x_orig.reshape(test_x_orig.shape[0], -1).T\n",
        "#print(train_x_flatten)\n",
        "#print(train_x_flatten.shape)\n",
        "train_x = train_x_flatten/255\n",
        "test_x = test_x_flatten/255\n",
        "#print(train_x[1])\n",
        "#predictions = (train_x > 0.5)\n",
        "#print(\"Predictions: \" + str(predictions))\n",
        "#print ('Accuracy: %d' % float((np.dot(train_y, predictions.T) + np.dot(1 - train_y, 1 - predictions.T)) / float(train_y.size) * 100) + '%')\n",
        "#print(train_x.shape)\n",
        "print (\"train_x's shape: \"+ str(train_x.shape))\n",
        "print (\"test_x's shape: \"+ str(test_x.shape))"
      ],
      "metadata": {
        "colab": {
          "base_uri": "https://localhost:8080/"
        },
        "id": "YeIwE4YdyopG",
        "outputId": "b9ab6048-ffae-4cb1-d1c0-db0810b4268f"
      },
      "execution_count": 9,
      "outputs": [
        {
          "output_type": "stream",
          "name": "stdout",
          "text": [
            "train_x's shape: (12288, 209)\n",
            "test_x's shape: (12288, 50)\n"
          ]
        }
      ]
    },
    {
      "cell_type": "markdown",
      "source": [
        "**Building the required model**"
      ],
      "metadata": {
        "id": "315Emad9QlOZ"
      }
    },
    {
      "cell_type": "code",
      "source": [
        "num_iterations=1000\n",
        "learning_rate=0.009\n",
        "m_train = train_x.shape[1]\n",
        "#initializing parameters\n",
        "w = np.zeros((train_x.shape[0],1))\n",
        "b = 0.0\n",
        "w = copy.deepcopy(w)\n",
        "b = copy.deepcopy(b)\n",
        "cost=np.zeros((num_iterations))\n",
        "print(m_train)\n",
        "for i in range(num_iterations):\n",
        "    #m = train_x.shape[1]\n",
        "    z=(np.dot(w.T,train_x) + b)\n",
        "    A = 1/(1+np.exp(-z))\n",
        "    #print(A.shape)\n",
        "    cost[i]=-np.sum((train_y*np.log(A)+(1-train_y)*np.log(1-A)))/m_train\n",
        "    dw = np.dot(train_x,(A-train_y).T)/m_train\n",
        "    db = np.sum(A-train_y)/m_train\n",
        "    w = w-learning_rate * dw\n",
        "    b = b-learning_rate * db"
      ],
      "metadata": {
        "colab": {
          "base_uri": "https://localhost:8080/"
        },
        "id": "9qGQ4B_NyrL-",
        "outputId": "043c7c8b-2f38-40fa-d8ea-3827fec489fa"
      },
      "execution_count": 49,
      "outputs": [
        {
          "output_type": "stream",
          "name": "stdout",
          "text": [
            "209\n"
          ]
        }
      ]
    },
    {
      "cell_type": "markdown",
      "source": [
        "Checking the train accuracy."
      ],
      "metadata": {
        "id": "cKyOJMbaQrmb"
      }
    },
    {
      "cell_type": "code",
      "source": [
        "m_train = train_x.shape[1]\n",
        "Y_prediction_train = np.zeros((1, m_train))\n",
        "w = w.reshape(train_x.shape[0], 1)\n",
        "\n",
        "\n",
        "z=(np.dot(w.T,train_x) + b)\n",
        "A = 1/(1+np.exp(-z))\n",
        "\n",
        "for i in range(A.shape[1]):\n",
        "    if A[0, i] > 0.5:\n",
        "        Y_prediction_train[0,i] = 1\n",
        "    else:\n",
        "        Y_prediction_train[0,i] = 0\n",
        "print(Y_prediction_train.shape)\n",
        "print(\"train accuracy: {} %\".format(100 - np.mean(np.abs(Y_prediction_train - train_y)) * 100))"
      ],
      "metadata": {
        "colab": {
          "base_uri": "https://localhost:8080/"
        },
        "id": "jORJ4swezsPL",
        "outputId": "2e7fed1f-4640-4a6f-ee5f-ecdd770b3b62"
      },
      "execution_count": 50,
      "outputs": [
        {
          "output_type": "stream",
          "name": "stdout",
          "text": [
            "(1, 209)\n",
            "train accuracy: 98.08612440191388 %\n"
          ]
        }
      ]
    },
    {
      "cell_type": "markdown",
      "source": [
        "Checking the test accuracy.\n"
      ],
      "metadata": {
        "id": "9nB2Tb2GQvX_"
      }
    },
    {
      "cell_type": "code",
      "source": [
        "m_test = test_x.shape[1]\n",
        "Y_prediction_test = np.zeros((1, m_test))\n",
        "w = w.reshape(test_x.shape[0], 1)\n",
        "\n",
        "\n",
        "z=(np.dot(w.T,test_x) + b)\n",
        "A = 1/(1+np.exp(-z))\n",
        "\n",
        "for i in range(A.shape[1]):\n",
        "    if A[0, i] > 0.5:\n",
        "        Y_prediction_test[0,i] = 1\n",
        "    else:\n",
        "        Y_prediction_test[0,i] = 0\n",
        "print(Y_prediction_test.shape)\n",
        "print(\"test accuracy: {} %\".format(100 - np.mean(np.abs(Y_prediction_test - test_y)) * 100))"
      ],
      "metadata": {
        "colab": {
          "base_uri": "https://localhost:8080/"
        },
        "id": "nySyFnVwOPh4",
        "outputId": "74d02ddf-606d-47aa-96a7-d5c4adf1647f"
      },
      "execution_count": 51,
      "outputs": [
        {
          "output_type": "stream",
          "name": "stdout",
          "text": [
            "(1, 50)\n",
            "test accuracy: 72.0 %\n"
          ]
        }
      ]
    },
    {
      "cell_type": "code",
      "source": [],
      "metadata": {
        "id": "LYY8GVoUPNdB"
      },
      "execution_count": null,
      "outputs": []
    }
  ]
}